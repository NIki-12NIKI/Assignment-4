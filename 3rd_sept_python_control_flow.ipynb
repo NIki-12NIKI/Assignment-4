{
 "cells": [
  {
   "cell_type": "code",
   "execution_count": 2,
   "id": "b303324d-84cd-4aa5-a7f5-f62adf361f53",
   "metadata": {},
   "outputs": [
    {
     "name": "stdin",
     "output_type": "stream",
     "text": [
      "enter number : 0\n"
     ]
    },
    {
     "name": "stdout",
     "output_type": "stream",
     "text": [
      "number is positive\n"
     ]
    }
   ],
   "source": [
    "#Write a Python program to check if a given number is positive or negative.\n",
    "\n",
    "a = int(input(\"enter number :\"))\n",
    "if a < 0:\n",
    "    print(\"number is negative\")\n",
    "else:\n",
    "    print(\"number is positive\")"
   ]
  },
  {
   "cell_type": "code",
   "execution_count": 3,
   "id": "3a64c72a-a4a8-4c34-8abd-97c2c7a32453",
   "metadata": {},
   "outputs": [
    {
     "name": "stdin",
     "output_type": "stream",
     "text": [
      "please enterr : 45\n"
     ]
    },
    {
     "name": "stdout",
     "output_type": "stream",
     "text": [
      "you are  eligible to vote.!!!\n"
     ]
    }
   ],
   "source": [
    "# Create a program that determines if a person is eligible to vote based on their age.\n",
    "\n",
    "age = int(input(\"please enterr :\"))\n",
    "if age < 18:\n",
    "    print(\"you are not eligible to vote.\")\n",
    "else:\n",
    "    print(\"you are  eligible to vote.!!!\")"
   ]
  },
  {
   "cell_type": "code",
   "execution_count": 5,
   "id": "77cefac7-6b91-4ede-a402-a25c006508b4",
   "metadata": {},
   "outputs": [
    {
     "name": "stdin",
     "output_type": "stream",
     "text": [
      "enter 1st number : 23\n",
      "enter 2nd number : 90\n"
     ]
    },
    {
     "name": "stdout",
     "output_type": "stream",
     "text": [
      "Maximum number is 90\n"
     ]
    }
   ],
   "source": [
    "# Develop a program to find the maximum of two numbers using if-else statements.\n",
    "x = int(input(\"enter 1st number :\"))\n",
    "y = int(input(\"enter 2nd number :\"))\n",
    "if x > y:\n",
    "    print(f\"Maximum number is {x}\")\n",
    "else :\n",
    "    print(f\"Maximum number is {y}\")"
   ]
  },
  {
   "cell_type": "code",
   "execution_count": 3,
   "id": "a5b6b4eb-bfca-4ceb-881d-7e62c6167f25",
   "metadata": {},
   "outputs": [
    {
     "name": "stdout",
     "output_type": "stream",
     "text": [
      "1997 is not a leap year\n"
     ]
    }
   ],
   "source": [
    "# Write a Python script to classify a given year as a leap year or not.\n",
    "# Python program to check if year is a leap year or not\n",
    "\n",
    "year = 1997\n",
    "if (year % 400 == 0) and (year % 100 == 0):\n",
    "    print(\"{0} is a leap year\".format(year))\n",
    "elif (year % 4 ==0) and (year % 100 != 0):\n",
    "    print(\"{0} is a leap year\".format(year))\n",
    "\n",
    "else:\n",
    "    print(\"{0} is not a leap year\".format(year))\n"
   ]
  },
  {
   "cell_type": "code",
   "execution_count": 5,
   "id": "38905a4a-f7b2-4020-884e-79a07f76cfaa",
   "metadata": {},
   "outputs": [
    {
     "name": "stdin",
     "output_type": "stream",
     "text": [
      "enter character : l\n"
     ]
    },
    {
     "name": "stdout",
     "output_type": "stream",
     "text": [
      "character is consonant\n"
     ]
    }
   ],
   "source": [
    "#Create a program that checks whether a character is a vowel or a consonant.\n",
    "s = input('enter character :')\n",
    "vowel = ['a','A','e','E','i','I','o','O','u','U']\n",
    "if vowel == s:\n",
    "    print(\"chararcter is vowel!!\")\n",
    "else:\n",
    "    print(\"character is consonant\")"
   ]
  },
  {
   "cell_type": "code",
   "execution_count": 6,
   "id": "723a7346-446a-4f67-a7cd-3bc28bdf2649",
   "metadata": {},
   "outputs": [
    {
     "name": "stdin",
     "output_type": "stream",
     "text": [
      "enter a number: 67\n"
     ]
    },
    {
     "name": "stdout",
     "output_type": "stream",
     "text": [
      "the number is odd\n"
     ]
    }
   ],
   "source": [
    "#Implement a program to determine whether a given number is even or odd.\n",
    "\n",
    "n = int(input(\"enter a number:\"))\n",
    "if n % 2 == 0:\n",
    "    print(\"the number is even\")\n",
    "else:\n",
    "    print(\"the number is odd\")"
   ]
  },
  {
   "cell_type": "code",
   "execution_count": 11,
   "id": "d7895696-410d-4707-aac9-5119b8a37767",
   "metadata": {},
   "outputs": [
    {
     "name": "stdin",
     "output_type": "stream",
     "text": [
      "Enter a number:  -90\n"
     ]
    },
    {
     "name": "stdout",
     "output_type": "stream",
     "text": [
      "Result: 90\n"
     ]
    }
   ],
   "source": [
    "#Write a Python function to calculate the absolute value of a number without using the `abs()` function.\n",
    "number = int(input(\"Enter a number: \"))\n",
    "if number >= 0:\n",
    "    result = number\n",
    "else:\n",
    "    result = -number\n",
    "print(\"Result:\", result)\n"
   ]
  },
  {
   "cell_type": "code",
   "execution_count": 13,
   "id": "a4d452b3-73bb-48e0-8eb8-4359cae668c9",
   "metadata": {},
   "outputs": [
    {
     "name": "stdin",
     "output_type": "stream",
     "text": [
      "enter 1st number: 23\n",
      "enter 2nd number: 34\n",
      "enter 3rd number: 78\n"
     ]
    },
    {
     "name": "stdout",
     "output_type": "stream",
     "text": [
      "the number 78 is largest\n"
     ]
    }
   ],
   "source": [
    "#Develop a program that determines the largest of three given numbers using if-else statements.\n",
    "a = int(input(\"enter 1st number:\"))\n",
    "b = int(input(\"enter 2nd number:\"))\n",
    "c = int(input(\"enter 3rd number:\"))\n",
    "\n",
    "if (a > b and a > c):\n",
    "    print(f\"The number {a} is largest.\")\n",
    "elif (b > c and b > a):\n",
    "    print(f\"The number {b} is largest.\")\n",
    "else :\n",
    "    print(f\"the number {c} is largest\")"
   ]
  },
  {
   "cell_type": "code",
   "execution_count": 18,
   "id": "00b18e2c-5ee1-450e-ad47-d70eb9f8303b",
   "metadata": {},
   "outputs": [
    {
     "name": "stdin",
     "output_type": "stream",
     "text": [
      "enter string : radar\n"
     ]
    },
    {
     "name": "stdout",
     "output_type": "stream",
     "text": [
      "given string is palindrome.\n"
     ]
    }
   ],
   "source": [
    "#Create a program that checks if a given string is a palindrome.\n",
    "str = input(\"enter string :\")\n",
    "if str[::-1] == str:\n",
    "    print(\"given string is palindrome.\")\n",
    "else:\n",
    "    print(\"string is not palindrome.\")"
   ]
  },
  {
   "cell_type": "code",
   "execution_count": 19,
   "id": "c38dd3a6-a7cf-4933-b7bc-e5bcbff1c734",
   "metadata": {},
   "outputs": [
    {
     "name": "stdin",
     "output_type": "stream",
     "text": [
      "Enter the student's score:  55\n"
     ]
    },
    {
     "name": "stdout",
     "output_type": "stream",
     "text": [
      "Grade: F\n"
     ]
    }
   ],
   "source": [
    "#Write a Python program to calculate the grade based on a student's score.\n",
    "def calculate_grade(score):\n",
    "    if 90 <= score <= 100:\n",
    "        return 'A'\n",
    "    elif 80 <= score < 90:\n",
    "        return 'B'\n",
    "    elif 70 <= score < 80:\n",
    "        return 'C'\n",
    "    elif 60 <= score < 70:\n",
    "        return 'D'\n",
    "    elif 0 <= score < 60:\n",
    "        return 'F'\n",
    "    else:\n",
    "        return 'Invalid score'\n",
    "\n",
    "# Get user input for the student's score\n",
    "try:\n",
    "    score = float(input(\"Enter the student's score: \"))\n",
    "    if 0 <= score <= 100:\n",
    "        grade = calculate_grade(score)\n",
    "        print(f\"Grade: {grade}\")\n",
    "    else:\n",
    "        print(\"Invalid score. Please enter a score between 0 and 100.\")\n",
    "except ValueError:\n",
    "    print(\"Invalid input. Please enter a valid numeric score.\")\n",
    "\n",
    "\n"
   ]
  },
  {
   "cell_type": "code",
   "execution_count": 23,
   "id": "23197a32-05df-47c0-833c-4d5070f46a0c",
   "metadata": {},
   "outputs": [
    {
     "name": "stdin",
     "output_type": "stream",
     "text": [
      "Enter the first number:  56\n",
      "Enter the second number:  78\n",
      "Enter the third number:  590\n"
     ]
    },
    {
     "name": "stdout",
     "output_type": "stream",
     "text": [
      "The largest number is: 590.0\n"
     ]
    }
   ],
   "source": [
    "#Write a program to find the largest among three numbers using nested if-else statements.\n",
    "# Get user input for three numbers\n",
    "\n",
    "num1 = float(input(\"Enter the first number: \"))\n",
    "num2 = float(input(\"Enter the second number: \"))\n",
    "num3 = float(input(\"Enter the third number: \"))\n",
    "if num1 >= num2:\n",
    "    if num1 >= num3:\n",
    "        largest = num1\n",
    "    else:\n",
    "        largest = num3\n",
    "else:\n",
    "    if num2 >= num3:\n",
    "        largest = num2\n",
    "    else:\n",
    "        largest = num3\n",
    "\n",
    "print(f\"The largest number is: {largest}\")\n"
   ]
  },
  {
   "cell_type": "code",
   "execution_count": 25,
   "id": "0aa5f46a-ff02-402e-9d3b-baa5e63be8c4",
   "metadata": {},
   "outputs": [
    {
     "name": "stdin",
     "output_type": "stream",
     "text": [
      "Enter side 1:  35\n",
      "Enter side 2:  35\n",
      "Enter side 3:  60\n"
     ]
    },
    {
     "name": "stdout",
     "output_type": "stream",
     "text": [
      "Triangle is isosceles.\n"
     ]
    }
   ],
   "source": [
    "#Implement a program to determine if a triangle is equilateral, isosceles, or scalene.\n",
    "\n",
    "s1 = int(input(\"Enter side 1: \"))\n",
    "s2 = int(input(\"Enter side 2: \"))\n",
    "s3 = int(input(\"Enter side 3: \"))\n",
    "\n",
    "# Check if sides form a valid triangle\n",
    "if s1 + s2 > s3 and s2 + s3 > s1 and s1 + s3 > s2:\n",
    "    if s1 == s2 == s3:\n",
    "        print(\"Triangle is equilateral!\")\n",
    "    elif s1 == s2 or s2 == s3 or s1 == s3:\n",
    "        print(\"Triangle is isosceles.\")\n",
    "    else:\n",
    "        print(\"Triangle is scalene.\")\n",
    "else:\n",
    "    print(\"Invalid input: These side lengths do not form a valid triangle.\")\n",
    "\n",
    "    "
   ]
  },
  {
   "cell_type": "code",
   "execution_count": 27,
   "id": "bbadb168-1113-43b7-b039-9c6eb1af4add",
   "metadata": {},
   "outputs": [
    {
     "name": "stdin",
     "output_type": "stream",
     "text": [
      "Enter a year:  1900\n"
     ]
    },
    {
     "name": "stdout",
     "output_type": "stream",
     "text": [
      "1900 is not a leap year.\n",
      "1900 is a century year.\n"
     ]
    }
   ],
   "source": [
    "#Develop a program that checks if a year is a leap year and also if it is a century year.\n",
    "\n",
    "def is_leap_year(year):\n",
    "    if (year % 4 == 0 and year % 100 != 0) or (year % 400 == 0):\n",
    "        return True\n",
    "    else:\n",
    "        return False\n",
    "\n",
    "def is_century_year(year):\n",
    "    if year % 100 == 0:\n",
    "        return True\n",
    "    else:\n",
    "        return False\n",
    "\n",
    "try:\n",
    "    year = int(input(\"Enter a year: \"))\n",
    "\n",
    "    if is_leap_year(year):\n",
    "        print(f\"{year} is a leap year.\")\n",
    "    else:\n",
    "        print(f\"{year} is not a leap year.\")\n",
    "\n",
    "    if is_century_year(year):\n",
    "        print(f\"{year} is a century year.\")\n",
    "    else:\n",
    "        print(f\"{year} is not a century year.\")\n",
    "\n",
    "except ValueError:\n",
    "    print(\"Invalid input. Please enter a valid year.\")\n"
   ]
  },
  {
   "cell_type": "code",
   "execution_count": 34,
   "id": "efe31f1b-4ec5-4581-9d70-3d2131d58b40",
   "metadata": {},
   "outputs": [
    {
     "name": "stdin",
     "output_type": "stream",
     "text": [
      "Enter a number:  9\n"
     ]
    },
    {
     "name": "stdout",
     "output_type": "stream",
     "text": [
      "The number is positive.\n"
     ]
    }
   ],
   "source": [
    "#Write a Python script to determine if a number is positive, negative, or zero.\n",
    "# Get user input for the number\n",
    "try:\n",
    "    number = float(input(\"Enter a number: \"))\n",
    "    if number > 0:\n",
    "        print(\"The number is positive.\")\n",
    "    else:\n",
    "        if number < 0:\n",
    "            print(\"The number is negative.\")\n",
    "        else:\n",
    "            print(\"The number is zero.\")\n",
    "\n",
    "except ValueError:\n",
    "    print(\"Invalid input. Please enter a valid numeric value.\")\n"
   ]
  },
  {
   "cell_type": "code",
   "execution_count": 33,
   "id": "3e4bbdc8-1318-49eb-bb4a-bb81cb20dad9",
   "metadata": {},
   "outputs": [
    {
     "name": "stdin",
     "output_type": "stream",
     "text": [
      "enter your age: 45\n"
     ]
    },
    {
     "name": "stdout",
     "output_type": "stream",
     "text": [
      "you're adult\n"
     ]
    }
   ],
   "source": [
    "#Create a program to check if a person is a teenager (between 13 and 19 years old).\n",
    "age = int(input(\"enter your age:\"))\n",
    "if (13 <= age <= 19):\n",
    "    print(\"You are teenage\")\n",
    "else:\n",
    "    if (age > 19):\n",
    "        print(\"you're adult\")\n",
    "    else:\n",
    "        print(\"You are child\")"
   ]
  },
  {
   "cell_type": "code",
   "execution_count": 31,
   "id": "8ba155cf-27bb-45da-b661-7df810ef325f",
   "metadata": {},
   "outputs": [
    {
     "name": "stdin",
     "output_type": "stream",
     "text": [
      "enter the angle: 110\n"
     ]
    },
    {
     "name": "stdout",
     "output_type": "stream",
     "text": [
      "It is an obtuse angle\n"
     ]
    }
   ],
   "source": [
    "#Develop a program that determines the type of angle based on its measure (acute, obtuse, or right).\n",
    "a = int(input(\"enter the angle:\"))\n",
    "if a == 90:\n",
    "    print(\"It is right angle\")\n",
    "else:\n",
    "    if a < 90:\n",
    "        \n",
    "        print(\"It is an acute angle \")\n",
    "    else:\n",
    "        print(\"It is an obtuse angle\")"
   ]
  },
  {
   "cell_type": "code",
   "execution_count": 37,
   "id": "3a9bc38d-084c-4231-99da-2665e7bbd34d",
   "metadata": {},
   "outputs": [
    {
     "name": "stdin",
     "output_type": "stream",
     "text": [
      "Enter the coefficient a:  1\n",
      "Enter the coefficient b:  -5\n",
      "Enter the coefficient c: 6\n"
     ]
    },
    {
     "name": "stdout",
     "output_type": "stream",
     "text": [
      "The roots are real and distinct: 3.0 and 2.0\n"
     ]
    }
   ],
   "source": [
    "#Write a Python program to calculate the roots of a quadratic equation.\n",
    "import math\n",
    "try:\n",
    "    a = float(input(\"Enter the coefficient a: \"))\n",
    "    b = float(input(\"Enter the coefficient b: \"))\n",
    "    c = float(input(\"Enter the coefficient c:\"))\n",
    "    discriminant = b**2 - 4*a*c\n",
    "    if discriminant > 0:\n",
    "        root1 = (-b + math.sqrt(discriminant)) / (2*a)\n",
    "        root2 = (-b - math.sqrt(discriminant)) / (2*a)\n",
    "        print(f\"The roots are real and distinct: {root1} and {root2}\")\n",
    "    elif discriminant == 0:\n",
    "        root = -b / (2*a)\n",
    "        print(f\"The root is real and repeated: {root}\")\n",
    "    else:\n",
    "        real_part = -b / (2*a)\n",
    "        imaginary_part = math.sqrt(abs(discriminant)) / (2*a)\n",
    "        root1 = f\"{real_part} + {imaginary_part}i\"\n",
    "        root2 = f\"{real_part} - {imaginary_part}i\"\n",
    "        print(f\"The roots are complex conjugates: {root1} and {root2}\")\n",
    "\n",
    "except ValueError:\n",
    "    print(\"Invalid input. Please enter valid numeric coefficients.\")\n"
   ]
  },
  {
   "cell_type": "code",
   "execution_count": 39,
   "id": "0cc5187c-c6c6-48ce-b391-588bcdef2414",
   "metadata": {},
   "outputs": [
    {
     "name": "stdin",
     "output_type": "stream",
     "text": [
      "Enter a number (1 for Monday, 2 for Tuesday, etc.):  5\n"
     ]
    },
    {
     "name": "stdout",
     "output_type": "stream",
     "text": [
      "The day corresponding to 5 is Friday.\n"
     ]
    }
   ],
   "source": [
    "# Implement a program to determine the day of the week based on a user-provided number (1 for Monday, 2 for Tuesday, etc.).\n",
    "try:\n",
    "    day_number = int(input(\"Enter a number (1 for Monday, 2 for Tuesday, etc.): \"))\n",
    "\n",
    "    # Determine the day of the week\n",
    "    if 1 <= day_number <= 7:\n",
    "        days_of_week = [\"Monday\", \"Tuesday\", \"Wednesday\", \"Thursday\", \"Friday\", \"Saturday\", \"Sunday\"]\n",
    "        day_of_week = days_of_week[day_number - 1]\n",
    "        print(f\"The day corresponding to {day_number} is {day_of_week}.\")\n",
    "    else:\n",
    "        print(\"Invalid input. Please enter a number between 1 and 7.\")\n",
    "\n",
    "except ValueError:\n",
    "    print(\"Invalid input. Please enter a valid numeric day number.\")\n"
   ]
  },
  {
   "cell_type": "code",
   "execution_count": 1,
   "id": "72206db2-4ac8-4527-8020-e41322958578",
   "metadata": {},
   "outputs": [
    {
     "name": "stdin",
     "output_type": "stream",
     "text": [
      "Enter a year:  8900\n"
     ]
    },
    {
     "name": "stdout",
     "output_type": "stream",
     "text": [
      "8900 is not a leap year.\n"
     ]
    }
   ],
   "source": [
    "# Create a program that determines if a year is a leap year and also if it is evenly divisible by 400.\n",
    "def is_leap_year(year):\n",
    "    # Check if the year is evenly divisible by 4\n",
    "    if year % 4 == 0:\n",
    "        # If the year is divisible by 100, it must also be divisible by 400\n",
    "        if year % 100 == 0:\n",
    "            return year % 400 == 0\n",
    "        return True\n",
    "    return False\n",
    "\n",
    "# Get input from the user\n",
    "year_input = int(input(\"Enter a year: \"))\n",
    "\n",
    "# Check if the entered year is a leap year\n",
    "if is_leap_year(year_input):\n",
    "    print(f\"{year_input} is a leap year.\")\n",
    "else:\n",
    "    print(f\"{year_input} is not a leap year.\")\n"
   ]
  },
  {
   "cell_type": "code",
   "execution_count": 3,
   "id": "3b7501bc-a3b0-4bd8-aaac-93cf3219a306",
   "metadata": {},
   "outputs": [
    {
     "name": "stdin",
     "output_type": "stream",
     "text": [
      "Enter a number:  7\n"
     ]
    },
    {
     "name": "stdout",
     "output_type": "stream",
     "text": [
      "7 is a prime number.\n"
     ]
    }
   ],
   "source": [
    "#Develop a program that checks if a given number is prime or not using nested if-else statements.\n",
    "\n",
    "def is_prime(number):\n",
    "    # Check if the number is greater than 1\n",
    "    if number > 1:\n",
    "        # Check for factors\n",
    "        for i in range(2, int(number**0.5) + 1):\n",
    "            if (number % i) == 0:\n",
    "                print(f\"{number} is not a prime number.\")\n",
    "                print(f\"{i} times {number // i} is {number}.\")\n",
    "                break\n",
    "        else:\n",
    "            print(f\"{number} is a prime number.\")\n",
    "    else:\n",
    "        print(f\"{number} is not a prime number.\")\n",
    "\n",
    "# Get input from the user\n",
    "num = int(input(\"Enter a number: \"))\n",
    "\n",
    "# Check if the entered number is prime\n",
    "is_prime(num)\n"
   ]
  },
  {
   "cell_type": "code",
   "execution_count": 4,
   "id": "e5f65c1b-a907-4f60-9b34-81230061f0e6",
   "metadata": {},
   "outputs": [
    {
     "name": "stdin",
     "output_type": "stream",
     "text": [
      "Enter the student's score:  60\n"
     ]
    },
    {
     "name": "stdout",
     "output_type": "stream",
     "text": [
      "Grade: D\n"
     ]
    }
   ],
   "source": [
    "#Write a Python program to assign grades based on different ranges of scores using elif statements.\n",
    "def calculate_grade(score):\n",
    "    if 90 <= score <= 100:\n",
    "        return 'A'\n",
    "    elif 80 <= score < 90:\n",
    "        return 'B'\n",
    "    elif 70 <= score < 80:\n",
    "        return 'C'\n",
    "    elif 60 <= score < 70:\n",
    "        return 'D'\n",
    "    elif 0 <= score < 60:\n",
    "        return 'F'\n",
    "    else:\n",
    "        return 'Invalid score'\n",
    "\n",
    "# Get user input for the student's score\n",
    "try:\n",
    "    score = float(input(\"Enter the student's score: \"))\n",
    "    if 0 <= score <= 100:\n",
    "        grade = calculate_grade(score)\n",
    "        print(f\"Grade: {grade}\")\n",
    "    else:\n",
    "        print(\"Invalid score. Please enter a score between 0 and 100.\")\n",
    "except ValueError:\n",
    "    print(\"Invalid input. Please enter a valid numeric score.\")\n"
   ]
  },
  {
   "cell_type": "code",
   "execution_count": 5,
   "id": "e268e8a9-4948-437b-b3b8-e9ec769fe0f2",
   "metadata": {},
   "outputs": [
    {
     "name": "stdin",
     "output_type": "stream",
     "text": [
      "enter the angle: 56\n"
     ]
    },
    {
     "name": "stdout",
     "output_type": "stream",
     "text": [
      "It is an acute angle \n"
     ]
    }
   ],
   "source": [
    "#Implement a program to determine the type of a triangle based on its angles.\n",
    "a = int(input(\"enter the angle:\"))\n",
    "if a == 90:\n",
    "    print(\"It is right angle\")\n",
    "elif a < 90:\n",
    "    print(\"It is an acute angle \")\n",
    "else:\n",
    "    print(\"It is an obtuse angle\")"
   ]
  },
  {
   "cell_type": "code",
   "execution_count": 9,
   "id": "7bdbfb2d-ec04-45e4-990d-fb2025cfc3bf",
   "metadata": {},
   "outputs": [
    {
     "name": "stdin",
     "output_type": "stream",
     "text": [
      "Enter your weight in kgs:  45\n",
      "Enter your height in cms:  156\n"
     ]
    },
    {
     "name": "stdout",
     "output_type": "stream",
     "text": [
      "You are underweight\n",
      "The BMI: 18.49112426035503\n"
     ]
    }
   ],
   "source": [
    "'''Develop a program to categorize a given person's BMI into underweight, normal, overweight, or obese using\n",
    "elif statements.'''\n",
    "w = int(input(\"Enter your weight in kgs: \"))\n",
    "h = int(input(\"Enter your height in cms: \"))\n",
    "\n",
    "def person_BMI(w, h):\n",
    "    BMI = w / (h / 100) ** 2\n",
    "    return BMI\n",
    "\n",
    "def calc(b):\n",
    "    if b < 18.5:\n",
    "        print(\"You are underweight\")\n",
    "    elif 18.5 <= b <= 24.9:\n",
    "        print(\"You are Normal\")\n",
    "    elif 25 <= b <= 29.9:\n",
    "        print(\"You are overweight\")\n",
    "    else:\n",
    "        print(\"You are obese\")\n",
    "    return b\n",
    "bmi_result = person_BMI(w, h)\n",
    "print(\"The BMI:\", calc(bmi_result))\n",
    "\n"
   ]
  },
  {
   "cell_type": "code",
   "execution_count": 1,
   "id": "9d35c946-d282-4b0a-8d26-0bf40492c693",
   "metadata": {},
   "outputs": [
    {
     "name": "stdin",
     "output_type": "stream",
     "text": [
      "Enter a number:  45\n"
     ]
    },
    {
     "name": "stdout",
     "output_type": "stream",
     "text": [
      "The number is positive.\n"
     ]
    }
   ],
   "source": [
    "#Create a program that determines whether a given number is positive, negative, or zero using elif statements.\n",
    "\n",
    "num = float(input(\"Enter a number: \"))\n",
    "if num > 0:\n",
    "    print(\"The number is positive.\")\n",
    "elif num < 0:\n",
    "    print(\"The number is negative.\")\n",
    "else:\n",
    "    print(\"The number is zero.\")\n",
    "\n"
   ]
  },
  {
   "cell_type": "code",
   "execution_count": 3,
   "id": "0e9bcb81-e9cf-47ce-a7fd-1d7eeb302bcd",
   "metadata": {},
   "outputs": [
    {
     "name": "stdin",
     "output_type": "stream",
     "text": [
      "Enter a character:  niki@\n"
     ]
    },
    {
     "name": "stdout",
     "output_type": "stream",
     "text": [
      "The character is special.\n"
     ]
    }
   ],
   "source": [
    "#Write a Python script to determine the type of a character (uppercase, lowercase, or special) using elif statements.\n",
    "\n",
    "char = input(\"Enter a character: \")\n",
    "\n",
    "# Check the type of character\n",
    "if char.isalpha():\n",
    "    if char.islower():\n",
    "        print(\"The character is lowercase.\")\n",
    "    elif char.isupper():\n",
    "        print(\"The character is uppercase.\")\n",
    "else:\n",
    "    print(\"The character is special.\")\n"
   ]
  },
  {
   "cell_type": "code",
   "execution_count": 5,
   "id": "72c779cc-6ffd-4281-9e0a-3600cd24420e",
   "metadata": {},
   "outputs": [
    {
     "name": "stdin",
     "output_type": "stream",
     "text": [
      "Enter the purchase amount:  2000\n"
     ]
    },
    {
     "name": "stdout",
     "output_type": "stream",
     "text": [
      "Original Price: $2000.00\n",
      "Discount Percentage: 10%\n",
      "Discounted Price: $1800.00\n"
     ]
    }
   ],
   "source": [
    "#Implement a program to calculate the discounted price based on different purchase amounts using elif statements.\n",
    "\n",
    "# Input the purchase amount from the user\n",
    "purchase_amount = float(input(\"Enter the purchase amount: \"))\n",
    "\n",
    "# Calculate discounted price based on different purchase amounts\n",
    "if purchase_amount >= 1000:\n",
    "    discount_percentage = 10\n",
    "elif purchase_amount >= 500:\n",
    "    discount_percentage = 5\n",
    "else:\n",
    "    discount_percentage = 0\n",
    "\n",
    "# Calculate the discounted price\n",
    "discounted_price = purchase_amount - (purchase_amount * discount_percentage / 100)\n",
    "\n",
    "# Display the results\n",
    "print(f\"Original Price: ${purchase_amount:.2f}\")\n",
    "print(f\"Discount Percentage: {discount_percentage}%\")\n",
    "print(f\"Discounted Price: ${discounted_price:.2f}\")\n"
   ]
  },
  {
   "cell_type": "code",
   "execution_count": 6,
   "id": "873ab9c6-57d8-4da6-8749-7eee4f0f7c0d",
   "metadata": {},
   "outputs": [
    {
     "name": "stdin",
     "output_type": "stream",
     "text": [
      "Enter the electricity consumption in kilowatt-hours (kWh):  500\n"
     ]
    },
    {
     "name": "stdout",
     "output_type": "stream",
     "text": [
      "Electricity Consumption: 500.0 kWh\n",
      "Electricity Bill: $85.00\n"
     ]
    }
   ],
   "source": [
    "#Develop a program to calculate the electricity bill based on different consumption slabs using elif statements.\n",
    "# Input the electricity consumption from the user\n",
    "consumption = float(input(\"Enter the electricity consumption in kilowatt-hours (kWh): \"))\n",
    "\n",
    "# Electricity tariff rates per kWh for different slabs\n",
    "slab1_rate = 0.10  # Rate for the first 100 kWh\n",
    "slab2_rate = 0.15  # Rate for the next 100 kWh\n",
    "slab3_rate = 0.20  # Rate for the next 100 kWh\n",
    "bill = 0.0\n",
    "if consumption <= 100:\n",
    "    bill = consumption * slab1_rate\n",
    "elif consumption <= 200:\n",
    "    bill = 100 * slab1_rate + (consumption - 100) * slab2_rate\n",
    "else:\n",
    "    bill = 100 * slab1_rate + 100 * slab2_rate + (consumption - 200) * slab3_rate\n",
    "print(f\"Electricity Consumption: {consumption} kWh\")\n",
    "print(f\"Electricity Bill: ${bill:.2f}\")\n"
   ]
  },
  {
   "cell_type": "code",
   "execution_count": 3,
   "id": "0d045523-7eb0-4646-bcc9-5a1f3ff86b37",
   "metadata": {},
   "outputs": [
    {
     "name": "stdin",
     "output_type": "stream",
     "text": [
      "Enter the first angle in degrees : 90\n",
      "Enter the second angle in degrees : 100\n",
      "Enter the third angle in degrees : 80\n",
      "Enter the fourth angle in degrees : 90\n",
      "Enter the length of first side : 5\n",
      "Enter the length of second side : 5\n",
      "Enter the length of third side : 6\n",
      "Enter the length of forth side : 6\n"
     ]
    },
    {
     "name": "stdout",
     "output_type": "stream",
     "text": [
      "It is a parallelogram.\n"
     ]
    }
   ],
   "source": [
    "#Create a program to determine the type of quadrilateral based on its angles and sides using elif statements.\n",
    "\n",
    "a1 = float(input(\"Enter the first angle in degrees :\"))\n",
    "a2 = float(input(\"Enter the second angle in degrees :\"))\n",
    "a3 = float(input(\"Enter the third angle in degrees :\"))\n",
    "a4 = float(input(\"Enter the fourth angle in degrees :\"))\n",
    "\n",
    "s1 = float(input(\"Enter the length of first side :\"))\n",
    "s2 = float(input(\"Enter the length of second side :\"))\n",
    "s3 = float(input(\"Enter the length of third side :\"))\n",
    "s4 = float(input(\"Enter the length of forth side :\"))\n",
    "\n",
    "if a1 == a2 == a3 == a4 == 90:\n",
    "    if s1 == s2 == s3 == s4:\n",
    "        print(\"It is a square.\")\n",
    "    else:\n",
    "        print(\"It is a rectangle.\")\n",
    "elif a1 + a2 + a3 + a4 == 360:\n",
    "    if s1 == s2 == s3 == s4:\n",
    "        print(\"It is a rhombus.\")\n",
    "    else:\n",
    "        print(\"It is a parallelogram.\")\n",
    "else:\n",
    "    print(\"It is a general quadrilateral.\")"
   ]
  },
  {
   "cell_type": "code",
   "execution_count": 9,
   "id": "c1dd2cd1-c125-43b7-b2a1-10ee8663f1b6",
   "metadata": {},
   "outputs": [
    {
     "name": "stdin",
     "output_type": "stream",
     "text": [
      "Enter the month (e.g., January, February, etc.):  may\n"
     ]
    },
    {
     "name": "stdout",
     "output_type": "stream",
     "text": [
      "The season for May is Spring.\n"
     ]
    }
   ],
   "source": [
    "#Write a Python script to determine the season based on a user-provided month using elif statements.\n",
    "month = input(\"Enter the month (e.g., January, February, etc.): \")\n",
    "month = month.lower()\n",
    "if month in [\"december\", \"january\", \"february\"]:\n",
    "    season = \"Winter\"\n",
    "elif month in [\"march\", \"april\", \"may\"]:\n",
    "    season = \"Spring\"\n",
    "elif month in [\"june\", \"july\", \"august\"]:\n",
    "    season = \"Summer\"\n",
    "elif month in [\"september\", \"october\", \"november\"]:\n",
    "    season = \"Fall\"\n",
    "else:\n",
    "    season = \"Invalid month\"\n",
    "if season != \"Invalid month\":\n",
    "    print(f\"The season for {month.capitalize()} is {season}.\")\n",
    "else:\n",
    "    print(\"Invalid month entered. Please provide a valid month.\")\n"
   ]
  },
  {
   "cell_type": "code",
   "execution_count": 10,
   "id": "1718615d-4c9e-4b9a-9d00-fb32d154a644",
   "metadata": {},
   "outputs": [
    {
     "name": "stdin",
     "output_type": "stream",
     "text": [
      "Enter the year:  7890\n",
      "Enter the month (e.g., January, February, etc.):  may\n"
     ]
    },
    {
     "name": "stdout",
     "output_type": "stream",
     "text": [
      "The year 7890 is a Common year.\n",
      "The month of May has 31 days.\n"
     ]
    }
   ],
   "source": [
    "#Implement a program to determine the type of a year (leap or common) and month (30 or 31 days) using elif statements.\n",
    "year = int(input(\"Enter the year: \"))\n",
    "month = input(\"Enter the month (e.g., January, February, etc.): \")\n",
    "\n",
    "# Convert the month to lowercase for case-insensitive comparison\n",
    "month = month.lower()\n",
    "\n",
    "# Determine if the year is leap or common\n",
    "if (year % 4 == 0 and year % 100 != 0) or (year % 400 == 0):\n",
    "    year_type = \"Leap\"\n",
    "else:\n",
    "    year_type = \"Common\"\n",
    "if month in [\"january\", \"march\", \"may\", \"july\", \"august\", \"october\", \"december\"]:\n",
    "    days_in_month = 31\n",
    "elif month in [\"april\", \"june\", \"september\", \"november\"]:\n",
    "    days_in_month = 30\n",
    "elif month == \"february\":\n",
    "    days_in_month = 29 if year_type == \"Leap\" else 28\n",
    "else:\n",
    "    days_in_month = -1  # Invalid month\n",
    "\n",
    "# Display the result\n",
    "if days_in_month != -1:\n",
    "    print(f\"The year {year} is a {year_type} year.\")\n",
    "    print(f\"The month of {month.capitalize()} has {days_in_month} days.\")\n",
    "else:\n",
    "    print(\"Invalid month entered. Please provide a valid month.\")"
   ]
  },
  {
   "cell_type": "code",
   "execution_count": 5,
   "id": "6d8064b7-9db6-4dd2-b390-d57bd1cadf15",
   "metadata": {},
   "outputs": [
    {
     "data": {
      "text/plain": [
       "\"1. Write a Python program that checks if a given number is positive, negative, or zero.\\n2. Create a program to determine if a person is eligible to vote based on their age.\\nWrite a program to find the maximum of two given numbers using conditional statements.\\n4. Develop a program that calculates the grade of a student based on their exam score.\\n5. Create a program that checks if a year is a leap year or not.\\n6. Write a program to classify a triangle based on its sides' lengths.\\n7. Build a program that determines the largest of three given numbers.\\n8. Develop a program that checks whether a character is a vowel or a consonant.\\n9. Create a program to calculate the total cost of a shopping cart based on discounts.\\n10. Write a program that checks if a given number is even or odd.\""
      ]
     },
     "execution_count": 5,
     "metadata": {},
     "output_type": "execute_result"
    }
   ],
   "source": [
    "\"\"\"1. Write a Python program that checks if a given number is positive, negative, or zero.\n",
    "2. Create a program to determine if a person is eligible to vote based on their age.\n",
    "Write a program to find the maximum of two given numbers using conditional statements.\n",
    "4. Develop a program that calculates the grade of a student based on their exam score.\n",
    "5. Create a program that checks if a year is a leap year or not.\n",
    "6. Write a program to classify a triangle based on its sides' lengths.\n",
    "7. Build a program that determines the largest of three given numbers.\n",
    "8. Develop a program that checks whether a character is a vowel or a consonant.\n",
    "9. Create a program to calculate the total cost of a shopping cart based on discounts.\n",
    "10. Write a program that checks if a given number is even or odd.\n",
    "11. Write a program that calculates the roots of a quadratic equation .\n",
    "12. Create a program that determines the day of the week based on the day number (1-7).\"\"\""
   ]
  },
  {
   "cell_type": "code",
   "execution_count": 6,
   "id": "92bad29d-2648-445d-b807-47a59572c131",
   "metadata": {},
   "outputs": [
    {
     "name": "stdout",
     "output_type": "stream",
     "text": [
      "120\n"
     ]
    }
   ],
   "source": [
    "# Develop a program that calculates the factorial of a given number using recursion.\n",
    "\n",
    "def factorial(n):\n",
    "    if n == 0 or n == 1:\n",
    "        return 1\n",
    "    else:\n",
    "        return n * factorial(n - 1)\n",
    "\n",
    "print(factorial(5)) "
   ]
  },
  {
   "cell_type": "code",
   "execution_count": 7,
   "id": "d9c4b992-6004-42e0-8a51-910e9d32bd53",
   "metadata": {},
   "outputs": [
    {
     "name": "stdin",
     "output_type": "stream",
     "text": [
      "Enter a number:  67\n",
      "Enter a number:  90\n",
      "Enter a number:  88\n"
     ]
    },
    {
     "name": "stdout",
     "output_type": "stream",
     "text": [
      "90.0\n"
     ]
    }
   ],
   "source": [
    "# Write a program to find the largest among three numbers without using the `max()` function.\n",
    "\n",
    "a = float(input(\"Enter a number: \"))\n",
    "b = float(input(\"Enter a number: \"))\n",
    "c = float(input(\"Enter a number: \"))\n",
    "print(max(a, b, c))"
   ]
  },
  {
   "cell_type": "code",
   "execution_count": 1,
   "id": "ffabe532-a0bf-4b64-ac55-0cdaa71aad69",
   "metadata": {},
   "outputs": [
    {
     "name": "stdout",
     "output_type": "stream",
     "text": [
      "\n",
      "ATM Menu:\n",
      "1. Check Balance\n",
      "2. Withdraw Money\n",
      "3. Deposit Money\n",
      "4. Exit\n"
     ]
    },
    {
     "name": "stdin",
     "output_type": "stream",
     "text": [
      "Enter your choice (1-4):  2\n",
      "Enter the withdrawal amount: $ 400\n"
     ]
    },
    {
     "name": "stdout",
     "output_type": "stream",
     "text": [
      "Withdrawal successful. Remaining balance: $600.0\n",
      "\n",
      "ATM Menu:\n",
      "1. Check Balance\n",
      "2. Withdraw Money\n",
      "3. Deposit Money\n",
      "4. Exit\n"
     ]
    },
    {
     "name": "stdin",
     "output_type": "stream",
     "text": [
      "Enter your choice (1-4):  4\n"
     ]
    },
    {
     "name": "stdout",
     "output_type": "stream",
     "text": [
      "Thank you for using the ATM. Goodbye!\n"
     ]
    }
   ],
   "source": [
    "balance = 1000\n",
    "\n",
    "def display_balance():\n",
    "    print(f\"Your balance is ${balance}\")\n",
    "\n",
    "def withdraw(amount):\n",
    "    global balance\n",
    "    if amount > 0 and amount <= balance:\n",
    "        balance -= amount\n",
    "        print(f\"Withdrawal successful. Remaining balance: ${balance}\")\n",
    "    else:\n",
    "        print(\"Invalid withdrawal amount or insufficient funds.\")\n",
    "\n",
    "def deposit(amount):\n",
    "    global balance\n",
    "    if amount > 0:\n",
    "        balance += amount\n",
    "        print(f\"Deposit successful. Updated balance: ${balance}\")\n",
    "    else:\n",
    "        print(\"Invalid deposit amount.\")\n",
    "\n",
    "def main():\n",
    "    while True:\n",
    "        print(\"\\nATM Menu:\")\n",
    "        print(\"1. Check Balance\")\n",
    "        print(\"2. Withdraw Money\")\n",
    "        print(\"3. Deposit Money\")\n",
    "        print(\"4. Exit\")\n",
    "\n",
    "        choice = input(\"Enter your choice (1-4): \")\n",
    "\n",
    "        if choice == '1':\n",
    "            display_balance()\n",
    "        elif choice == '2':\n",
    "            amount = float(input(\"Enter the withdrawal amount: $\"))\n",
    "            withdraw(amount)\n",
    "        elif choice == '3':\n",
    "            amount = float(input(\"Enter the deposit amount: $\"))\n",
    "            deposit(amount)\n",
    "        elif choice == '4':\n",
    "            print(\"Thank you for using the ATM. Goodbye!\")\n",
    "            break\n",
    "        else:\n",
    "            print(\"Invalid choice. Please enter a number between 1 and 4.\")\n",
    "\n",
    "if __name__ == \"__main__\":\n",
    "    main()\n"
   ]
  },
  {
   "cell_type": "code",
   "execution_count": 2,
   "id": "7d5c9edd-1f7c-424c-83c4-a0b3418fd3d9",
   "metadata": {},
   "outputs": [],
   "source": [
    "#Build a program that checks if a given string is a palindrome or not."
   ]
  },
  {
   "cell_type": "code",
   "execution_count": 17,
   "id": "cec50b47-c867-447d-a1bf-01a7ccc6617e",
   "metadata": {},
   "outputs": [
    {
     "name": "stdin",
     "output_type": "stream",
     "text": [
      "enter a list of numbers seperated by spaces :  89 77 65\n"
     ]
    },
    {
     "name": "stdout",
     "output_type": "stream",
     "text": [
      "the average is :77.00\n"
     ]
    }
   ],
   "source": [
    "#Write a program that calculates the average of a list of numbers, excluding the smallest and largest values.\n",
    "def calculate_average(numbers):\n",
    "    if len(numbers) < 3:\n",
    "        print(\"list must contain atleast 3 numbers.\")\n",
    "        return\n",
    "    \n",
    "    \n",
    "    numbers.remove(min(numbers))\n",
    "    numbers.remove(max(numbers))\n",
    "    \n",
    "    average = sum(numbers)/len(numbers)\n",
    "    return average\n",
    "\n",
    "def main():\n",
    "    try:\n",
    "        input_numbers = input(\"enter a list of numbers seperated by spaces : \")\n",
    "        numbers = [float(x)for x in input_numbers.split()]\n",
    "        \n",
    "        average = calculate_average(numbers)\n",
    "        print(f\"the average is :{average:.2f}\")\n",
    "        \n",
    "    except ValueError:\n",
    "        print(\"Invalid input.please enter avalid numbers\")\n",
    "        \n",
    "if __name__ == \"__main__\":\n",
    "    main()"
   ]
  },
  {
   "cell_type": "code",
   "execution_count": 18,
   "id": "d8e4697a-bf48-4561-a14b-aa66c733a06d",
   "metadata": {},
   "outputs": [],
   "source": [
    "# Develop a program that converts a given temperature from Celsius to Fahrenheit.\n",
    "#Create a program that simulates a basic calculator for addition, subtraction, multiplication, and division."
   ]
  },
  {
   "cell_type": "code",
   "execution_count": 1,
   "id": "cbf39e84-f8c7-46dd-9ddc-590af6634b5a",
   "metadata": {},
   "outputs": [
    {
     "name": "stdout",
     "output_type": "stream",
     "text": [
      "Roots: [3. 2. 1.]\n"
     ]
    }
   ],
   "source": [
    "# Write a program that determines the roots of a cubic equation using the Cardano formula.\n",
    "\n",
    "import numpy as np\n",
    "\n",
    "def cubic_equation_solver(coefficients):\n",
    "    # Coefficients is a list [a, b, c, d] representing the cubic equation ax^3 + bx^2 + cx + d\n",
    "    roots = np.roots(coefficients)\n",
    "    return roots\n",
    "\n",
    "# Example usage\n",
    "coefficients = [1, -6, 11, -6]  # Example coefficients for the equation x^3 - 6x^2 + 11x - 6 = 0\n",
    "\n",
    "roots = cubic_equation_solver(coefficients)\n",
    "print(\"Roots:\", roots)\n"
   ]
  },
  {
   "cell_type": "code",
   "execution_count": 2,
   "id": "c242ef1d-4ebe-49fb-91f2-0ac8d4b6bba5",
   "metadata": {},
   "outputs": [
    {
     "name": "stdin",
     "output_type": "stream",
     "text": [
      "Enter the coefficient a:  4\n",
      "Enter the coefficient b:  7\n",
      "Enter the coefficient c:  -8\n",
      "Enter the coefficient d:  3\n"
     ]
    },
    {
     "name": "stdout",
     "output_type": "stream",
     "text": [
      "Roots: ((0.4359524271551566+1.7654547245975456j), (-0.8246521772840566-1.0376443168828846j), (-1.3613002498711002-0.7278104077146611j))\n"
     ]
    }
   ],
   "source": [
    "#. Write a program that determines the roots of a cubic equation using the Cardano formula.\n",
    "\n",
    "\n",
    "import cmath  # Import the complex math module\n",
    "\n",
    "def cubic_roots(a, b, c, d):\n",
    "    # Calculate intermediate values\n",
    "    p = c / a - (b ** 2) / (3 * a ** 2)\n",
    "    q = 2 * (b ** 3) / (27 * a ** 3) - b * c / (3 * a ** 2) + d / a\n",
    "\n",
    "    # Calculate discriminant\n",
    "    delta = (q ** 2) / 4 + (p ** 3) / 27\n",
    "\n",
    "    # Check discriminant for different cases\n",
    "    if delta > 0:\n",
    "        # Three real roots\n",
    "        u = (-q / 2 + cmath.sqrt(delta)) ** (1 / 3)\n",
    "        v = (-q / 2 - cmath.sqrt(delta)) ** (1 / 3)\n",
    "        root1 = u + v - b / (3 * a)\n",
    "        root2 = -(u + v) / 2 - b / (3 * a) + 1j * (u - v) * cmath.sqrt(3) / 2\n",
    "        root3 = -(u + v) / 2 - b / (3 * a) - 1j * (u - v) * cmath.sqrt(3) / 2\n",
    "    elif delta == 0:\n",
    "        # One real root and two complex conjugate roots\n",
    "        u = (-q / 2) ** (1 / 3)\n",
    "        v = (-q / 2) ** (1 / 3)\n",
    "        root1 = 2 * u - b / (3 * a)\n",
    "        root2 = root3 = -(u + v) / 2 - b / (3 * a)\n",
    "    else:\n",
    "        # Three real roots (one real and two complex conjugate)\n",
    "        phi = cmath.phase((-q / 2 + cmath.sqrt(delta))**0.5)\n",
    "        r = abs((-q / 2 + cmath.sqrt(delta))**0.5)\n",
    "        root1 = 2 * r * cmath.cos(phi / 3) - b / (3 * a)\n",
    "        root2 = 2 * r * cmath.cos((phi + 2 * cmath.pi) / 3) - b / (3 * a)\n",
    "        root3 = 2 * r * cmath.cos((phi - 2 * cmath.pi) / 3) - b / (3 * a)\n",
    "\n",
    "    return root1, root2, root3\n",
    "\n",
    "# Example usage\n",
    "a = float(input(\"Enter the coefficient a: \"))\n",
    "\n",
    "b = float(input(\"Enter the coefficient b: \"))\n",
    "c = float(input(\"Enter the coefficient c: \"))\n",
    "d = float(input(\"Enter the coefficient d: \"))\n",
    "\n",
    "roots = cubic_roots(a, b, c, d)\n",
    "print(\"Roots:\", roots)\n"
   ]
  },
  {
   "cell_type": "code",
   "execution_count": 4,
   "id": "bef7022e-1706-48cb-8fad-f31cf48a7908",
   "metadata": {},
   "outputs": [
    {
     "name": "stdin",
     "output_type": "stream",
     "text": [
      "Enter your income:  30000\n"
     ]
    },
    {
     "name": "stdout",
     "output_type": "stream",
     "text": [
      "Income Tax: $ 5000.0\n"
     ]
    }
   ],
   "source": [
    "# Create a program that calculates the income tax based on the user's income and tax brackets.\n",
    "\n",
    "def calc_income_tax(income):\n",
    "    brackets = [10000, 30000, 70000, float('inf')]\n",
    "    rates = [0.1, 0.2, 0.3, 0.4]\n",
    "\n",
    "    tax = 0\n",
    "    previous_bracket = 0\n",
    "\n",
    "    for i in range(len(brackets)):\n",
    "        if income <= brackets[i]:\n",
    "            tax += (income - previous_bracket) * rates[i]\n",
    "            break\n",
    "        else:\n",
    "            tax += (brackets[i] - previous_bracket) * rates[i]\n",
    "            previous_bracket = brackets[i]\n",
    "\n",
    "    return tax\n",
    "\n",
    "income_str = input(\"Enter your income: \")\n",
    "try:\n",
    "    income = float(income_str)\n",
    "except ValueError:\n",
    "    print(\"Invalid input. Please enter a valid number.\")\n",
    "    exit()\n",
    "\n",
    "income_tax = calc_income_tax(income)\n",
    "print(\"Income Tax: $\", income_tax)\n"
   ]
  },
  {
   "cell_type": "code",
   "execution_count": 9,
   "id": "15b35efd-de5f-407c-a63d-eb914a1feafa",
   "metadata": {},
   "outputs": [
    {
     "name": "stdin",
     "output_type": "stream",
     "text": [
      "Enter your income:  50000\n"
     ]
    },
    {
     "name": "stdout",
     "output_type": "stream",
     "text": [
      "Income Tax: $ 11000.0\n"
     ]
    }
   ],
   "source": [
    "def calculate_income_tax(income):\n",
    "    # Define tax brackets and corresponding tax rates\n",
    "    brackets = [10000, 30000, 70000, float('inf')]  # Income brackets\n",
    "    rates = [0.1, 0.2, 0.3, 0.4]  # Corresponding tax rates\n",
    "\n",
    "    # Calculate tax for each bracket\n",
    "    tax = 0\n",
    "    previous_bracket = 0\n",
    "\n",
    "    for i in range(len(brackets)):\n",
    "        if income <= brackets[i]:\n",
    "            tax += (income - previous_bracket) * rates[i]\n",
    "            break\n",
    "        else:\n",
    "            tax += (brackets[i] - previous_bracket) * rates[i]\n",
    "            previous_bracket = brackets[i]\n",
    "\n",
    "    return tax\n",
    "\n",
    "# Get user input for income\n",
    "income_str = input(\"Enter your income: \")\n",
    "\n",
    "# Convert user input to float\n",
    "try:\n",
    "    income = float(income_str)\n",
    "except ValueError:\n",
    "    print(\"Invalid input. Please enter a valid number.\")\n",
    "    exit()\n",
    "\n",
    "# Calculate and display income tax\n",
    "income_tax = calculate_income_tax(income)\n",
    "print(\"Income Tax: $\", income_tax)\n"
   ]
  },
  {
   "cell_type": "code",
   "execution_count": 8,
   "id": "4bbd820a-87b7-44b2-93f6-e648a9a3b809",
   "metadata": {},
   "outputs": [
    {
     "name": "stdout",
     "output_type": "stream",
     "text": [
      "Choice Rock ,Paper and , or scissor:\n"
     ]
    },
    {
     "name": "stdin",
     "output_type": "stream",
     "text": [
      " scissor\n"
     ]
    },
    {
     "name": "stdout",
     "output_type": "stream",
     "text": [
      "You chose Scissor\n",
      "The computer choseScissor\n",
      "IT'S A TIE\n"
     ]
    }
   ],
   "source": [
    "#Write a program that simulates a rock-paper-scissors game against the computer.\n",
    "import random\n",
    "def get_user_choice():\n",
    "    print(\"Choice Rock ,Paper and , or scissor:\")\n",
    "    user_choice = input().capitalize()\n",
    "    while user_choice not in [\"Roch\",\"Paper\",\"Scissor\"]:\n",
    "        print(\"Invalid choice,please choose R,P and S\")\n",
    "        user_choice = input().capitalize\n",
    "    return user_choice\n",
    "def get_computer_choice():\n",
    "    choices = [\"Rock\",\"Paper\",\"Scissor\"]\n",
    "    return random.choice(choices)\n",
    "def determine_winner(user_choice,computer_choice):\n",
    "    print(f\"You chose {user_choice}\")\n",
    "    print(f\"The computer chose{computer_choice}\")\n",
    "    \n",
    "    if user_choice == computer_choice:\n",
    "        return \"IT'S A TIE\"\n",
    "    elif(user_choice == 'Rock' and computer_choice == \"Scissor\") or\\\n",
    "        (user_choice == 'Paper' and computer_choice == \"Rock\") or\\\n",
    "        (user_choice == 'Scissor' and computer_choice == \"Paper\"):\n",
    "        return \"You win\"\n",
    "    else:\n",
    "        return \"You Lose\"\n",
    "def play_game():\n",
    "    user_choice = get_user_choice()\n",
    "    computer_choice = get_computer_choice()\n",
    "    result = determine_winner(user_choice,computer_choice)\n",
    "    print(result)\n",
    "    \n",
    "if __name__ == \"__main__\":\n",
    "    play_game()"
   ]
  },
  {
   "cell_type": "code",
   "execution_count": 12,
   "id": "0daa7f5f-2756-4f73-847c-9c9021b2b8b5",
   "metadata": {},
   "outputs": [
    {
     "name": "stdout",
     "output_type": "stream",
     "text": [
      "Password Generator\n"
     ]
    },
    {
     "name": "stdin",
     "output_type": "stream",
     "text": [
      "Enter the length of the password:  5\n",
      "Include uppercase letters? (y/n):  y\n",
      "Include lowercase letters? (y/n):  y\n",
      "Include numbers? (y/n):  y\n",
      "Include special characters? (y/n):  y\n"
     ]
    },
    {
     "name": "stdout",
     "output_type": "stream",
     "text": [
      "Generated Password: yWn4#\n"
     ]
    }
   ],
   "source": [
    "#Develop a program that generates a random password based on user preferences (length, complexity).\n",
    "\n",
    "import random\n",
    "import string\n",
    "\n",
    "def generate_password(length, include_uppercase=True, include_lowercase=True, include_numbers=True, include_special=True):\n",
    "    characters = \"\"\n",
    "    if include_uppercase:\n",
    "        characters += string.ascii_uppercase\n",
    "    if include_lowercase:\n",
    "        characters += string.ascii_lowercase\n",
    "    if include_numbers:\n",
    "        characters += string.digits\n",
    "    if include_special:\n",
    "        characters += string.punctuation\n",
    "\n",
    "    if not characters:\n",
    "        print(\"Error: Please include at least one type of character.\")\n",
    "        return None\n",
    "\n",
    "    password = ''.join(random.choice(characters) for _ in range(length))\n",
    "    return password\n",
    "\n",
    "def get_user_preferences():\n",
    "    print(\"Password Generator\")\n",
    "    length = int(input(\"Enter the length of the password: \"))\n",
    "    include_uppercase = input(\"Include uppercase letters? (y/n): \").lower() == 'y'\n",
    "    include_lowercase = input(\"Include lowercase letters? (y/n): \").lower() == 'y'\n",
    "    include_numbers = input(\"Include numbers? (y/n): \").lower() == 'y'\n",
    "    include_special = input(\"Include special characters? (y/n): \").lower() == 'y'\n",
    "    return length, include_uppercase, include_lowercase, include_numbers, include_special\n",
    "\n",
    "if __name__ == \"__main__\":\n",
    "    length, include_uppercase, include_lowercase, include_numbers, include_special = get_user_preferences()\n",
    "    password = generate_password(length, include_uppercase, include_lowercase, include_numbers, include_special)\n",
    "\n",
    "    if password:\n",
    "        print(f\"Generated Password: {password}\")\n"
   ]
  },
  {
   "cell_type": "code",
   "execution_count": 2,
   "id": "72ceb89f-d6d8-4d12-9e8b-77d794b70819",
   "metadata": {},
   "outputs": [
    {
     "name": "stdout",
     "output_type": "stream",
     "text": [
      "Welcome to the Haunted Mansion!\n",
      "You are a distant family member of a rich millionaire who has just passed way, leaving this mansion to you.\n",
      "As the newfound owner, you decide to pay a visit to the mansion.\n",
      "The house is dated, creaky, and falling apart. You walk in the front door.\n",
      "Do you want to enter the living room or the dining room?\n"
     ]
    },
    {
     "name": "stdin",
     "output_type": "stream",
     "text": [
      ">  dining room\n"
     ]
    },
    {
     "name": "stdout",
     "output_type": "stream",
     "text": [
      "You chose to go into the dining room.\n",
      "As you walk in, you see a shiny vase on the table.\n",
      "Do you want to open the vase?\n"
     ]
    },
    {
     "name": "stdin",
     "output_type": "stream",
     "text": [
      ">  no\n"
     ]
    },
    {
     "name": "stdout",
     "output_type": "stream",
     "text": [
      "You decide not to open the shiny vase.\n",
      "As you turn to leave, you hear a cracking sound coming from the corner.\n",
      "A dark figure with glowing red eyes launches at you, knocking you unconcious\n",
      "You wake up in your bed. It was all a dream.\n"
     ]
    }
   ],
   "source": [
    "#Create a program that implements a simple text-based adventure game with branching scenarios.#\n",
    "\n",
    "### Print a welcome message\n",
    "print(\"Welcome to the Haunted Mansion!\")\n",
    "print(\"You are a distant family member of a rich millionaire who has just passed way, leaving this mansion to you.\")\n",
    "print(\"As the newfound owner, you decide to pay a visit to the mansion.\")\n",
    "print(\"The house is dated, creaky, and falling apart. You walk in the front door.\")\n",
    "print(\"Do you want to enter the living room or the dining room?\")\n",
    "\n",
    "### Prompt user for a choice\n",
    "roomChoice = input(\"> \")\n",
    "\n",
    "if(roomChoice == \"living room\"):\n",
    "    print(\"You enter the living room.\")\n",
    "    print(\"As you walk in, you see a sleeping pitbull guarding some gold jewelry.\")\n",
    "    print(\"Do you want to steal the jewelry from the pitbull?\")\n",
    "\n",
    "    pitBullChoice = input(\"> \")\n",
    "\n",
    "    if(pitBullChoice == \"yes\"):\n",
    "        print(\"You attempt to steal the jewelry, but it wakes up and rips you to shreds.\")\n",
    "        print(\"You are now dead.\")\n",
    "    elif(pitBullChoice == \"no\"):\n",
    "        print(\"You decide to not steal the dog's jewelry.\")\n",
    "        print(\"You turn around and leave the house safely.\")\n",
    "    else:\n",
    "        print(\"Invalid choice. Please enter yes or no.\")\n",
    "elif(roomChoice == \"dining room\"):\n",
    "    print(\"You chose to go into the dining room.\")\n",
    "    print(\"As you walk in, you see a shiny vase on the table.\")\n",
    "    print(\"Do you want to open the vase?\")\n",
    "\n",
    "    vaseChoice = input(\"> \")\n",
    "\n",
    "    if(vaseChoice == \"yes\"):\n",
    "        print(\"You open the vase and find a pile of bones!\")\n",
    "    elif(vaseChoice == \"no\"):\n",
    "        print(\"You decide not to open the shiny vase.\")\n",
    "        print(\"As you turn to leave, you hear a cracking sound coming from the corner.\")\n",
    "        print(\"A dark figure with glowing red eyes launches at you, knocking you unconcious\")\n",
    "        print(\"You wake up in your bed. It was all a dream.\")\n",
    "    else:\n",
    "        print(\"Invalid choice. Please enter yes or no.\")\n",
    "else:\n",
    "    print(\"Invalid choice. Please enter living room or dining room.\")"
   ]
  },
  {
   "cell_type": "code",
   "execution_count": 3,
   "id": "6311c799-dcfb-455f-8855-db38eedbcdbd",
   "metadata": {},
   "outputs": [
    {
     "name": "stdout",
     "output_type": "stream",
     "text": [
      "Linear Equation Solver\n",
      "Enter coefficients and constants for ax + b = c (leave c blank for ax + b = 0):\n"
     ]
    },
    {
     "name": "stdin",
     "output_type": "stream",
     "text": [
      "Enter coefficient a:  2\n",
      "Enter coefficient b:  3\n",
      "Enter constant c (press Enter for ax + b = 0):  0\n"
     ]
    },
    {
     "name": "stdout",
     "output_type": "stream",
     "text": [
      "Solution: x = -1.5\n"
     ]
    }
   ],
   "source": [
    "#Build a program that solves a linear equation for x, considering different cases.\n",
    "def solve_linear_equation(a, b, c=None):\n",
    "    if c is None:\n",
    "        # Case: ax + b = 0\n",
    "        if a == 0:\n",
    "            if b == 0:\n",
    "                return \"Infinite solutions (0 = 0)\"\n",
    "            else:\n",
    "                return \"No solution ({} = 0)\".format(b)\n",
    "        else:\n",
    "            x = -b / a\n",
    "            return \"Solution: x = {}\".format(x)\n",
    "    else:\n",
    "        # Case: ax + b = c\n",
    "        if a == 0:\n",
    "            if b == c:\n",
    "                return \"Infinite solutions ({} = {})\".format(b, c)\n",
    "            else:\n",
    "                return \"No solution ({} = {})\".format(b, c)\n",
    "        else:\n",
    "            x = (c - b) / a\n",
    "            return \"Solution: x = {}\".format(x)\n",
    "\n",
    "def main():\n",
    "    print(\"Linear Equation Solver\")\n",
    "    print(\"Enter coefficients and constants for ax + b = c (leave c blank for ax + b = 0):\")\n",
    "    \n",
    "    a = float(input(\"Enter coefficient a: \"))\n",
    "    b = float(input(\"Enter coefficient b: \"))\n",
    "    \n",
    "    c_str = input(\"Enter constant c (press Enter for ax + b = 0): \")\n",
    "    if c_str:\n",
    "        c = float(c_str)\n",
    "        result = solve_linear_equation(a, b, c)\n",
    "    else:\n",
    "        result = solve_linear_equation(a, b)\n",
    "\n",
    "    print(result)\n",
    "\n",
    "if __name__ == \"__main__\":\n",
    "    main()\n"
   ]
  },
  {
   "cell_type": "code",
   "execution_count": 1,
   "id": "a02b8d5b-d1c4-4ccd-ae45-859b31e378b6",
   "metadata": {},
   "outputs": [
    {
     "name": "stdout",
     "output_type": "stream",
     "text": [
      "Welcome to the Quiz Game!\n",
      "What is the capital of France?\n",
      "1. London\n",
      "2. Paris\n",
      "3. Berlin\n",
      "4. Madrid\n"
     ]
    },
    {
     "name": "stdin",
     "output_type": "stream",
     "text": [
      "Enter the number of your answer (1-4):  1\n"
     ]
    },
    {
     "name": "stdout",
     "output_type": "stream",
     "text": [
      "Wrong! The correct answer is 2: Paris\n",
      "\n",
      "What is the largest mammal in the world?\n",
      "1. Elephant\n",
      "2. Blue whale\n",
      "3. Giraffe\n",
      "4. Hippopotamus\n"
     ]
    },
    {
     "name": "stdin",
     "output_type": "stream",
     "text": [
      "Enter the number of your answer (1-4):  1\n"
     ]
    },
    {
     "name": "stdout",
     "output_type": "stream",
     "text": [
      "Wrong! The correct answer is 2: Blue whale\n",
      "\n",
      "Which planet is known as the Red Planet?\n",
      "1. Mars\n",
      "2. Venus\n",
      "3. Jupiter\n",
      "4. Saturn\n"
     ]
    },
    {
     "name": "stdin",
     "output_type": "stream",
     "text": [
      "Enter the number of your answer (1-4):  2\n"
     ]
    },
    {
     "name": "stdout",
     "output_type": "stream",
     "text": [
      "Wrong! The correct answer is 1: Mars\n",
      "\n",
      "Quiz completed! Your score is 0/3.\n"
     ]
    }
   ],
   "source": [
    "#Write a program that simulates a basic quiz game with multiple-choice questions and scoring.\n",
    "import random\n",
    "\n",
    "class Quiz:\n",
    "    def __init__(self, questions):\n",
    "        self.questions = questions\n",
    "        self.score = 0\n",
    "\n",
    "    def ask_question(self, question):\n",
    "        print(question[\"question\"])\n",
    "        for i, option in enumerate(question[\"options\"], start=1):\n",
    "            print(f\"{i}. {option}\")\n",
    "\n",
    "        user_answer = input(\"Enter the number of your answer (1-{}): \".format(len(question[\"options\"])))\n",
    "\n",
    "        if user_answer.isdigit() and 1 <= int(user_answer) <= len(question[\"options\"]):\n",
    "            user_answer = int(user_answer)\n",
    "            correct_answer = question[\"answer\"]\n",
    "            if user_answer == correct_answer:\n",
    "                print(\"Correct!\\n\")\n",
    "                self.score += 1\n",
    "            else:\n",
    "                print(f\"Wrong! The correct answer is {correct_answer}: {question['options'][correct_answer - 1]}\\n\")\n",
    "        else:\n",
    "            print(\"Invalid input. Please enter a number between 1 and {}.\\n\".format(len(question[\"options\"])))\n",
    "\n",
    "    def start_quiz(self):\n",
    "        random.shuffle(self.questions)\n",
    "        for question in self.questions:\n",
    "            self.ask_question(question)\n",
    "\n",
    "        print(\"Quiz completed! Your score is {}/{}.\".format(self.score, len(self.questions)))\n",
    "\n",
    "# Example quiz questions\n",
    "quiz_questions = [\n",
    "    {\n",
    "        \"question\": \"What is the capital of France?\",\n",
    "        \"options\": [\"London\", \"Paris\", \"Berlin\", \"Madrid\"],\n",
    "        \"answer\": 2,\n",
    "    },\n",
    "    {\n",
    "        \"question\": \"Which planet is known as the Red Planet?\",\n",
    "        \"options\": [\"Mars\", \"Venus\", \"Jupiter\", \"Saturn\"],\n",
    "        \"answer\": 1,\n",
    "    },\n",
    "    {\n",
    "        \"question\": \"What is the largest mammal in the world?\",\n",
    "        \"options\": [\"Elephant\", \"Blue whale\", \"Giraffe\", \"Hippopotamus\"],\n",
    "        \"answer\": 2,\n",
    "    },\n",
    "]\n",
    "\n",
    "def main():\n",
    "    print(\"Welcome to the Quiz Game!\")\n",
    "    my_quiz = Quiz(quiz_questions)\n",
    "    my_quiz.start_quiz()\n",
    "\n",
    "if __name__ == \"__main__\":\n",
    "    main()\n"
   ]
  },
  {
   "cell_type": "code",
   "execution_count": 3,
   "id": "914412d8-17ce-4a66-be4d-2bb78538bf15",
   "metadata": {},
   "outputs": [
    {
     "name": "stdin",
     "output_type": "stream",
     "text": [
      "Enter a year to check if it's prime:  1996\n"
     ]
    },
    {
     "name": "stdout",
     "output_type": "stream",
     "text": [
      "1996 is not a prime year.\n"
     ]
    }
   ],
   "source": [
    "# Develop a program that determines whether a given year is a prime number or not.\n",
    "def is_prime(year):\n",
    "    if year < 2:\n",
    "        return False\n",
    "    for i in range(2, int(year**0.5) + 1):\n",
    "        if year % i == 0:\n",
    "            return False\n",
    "    return True\n",
    "\n",
    "def main():\n",
    "    try:\n",
    "        year = int(input(\"Enter a year to check if it's prime: \"))\n",
    "        if is_prime(year):\n",
    "            print(f\"{year} is a prime year.\")\n",
    "        else:\n",
    "            print(f\"{year} is not a prime year.\")\n",
    "    except ValueError:\n",
    "        print(\"Please enter a valid year (integer).\")\n",
    "main()"
   ]
  },
  {
   "cell_type": "code",
   "execution_count": 11,
   "id": "07ed7fa2-28dc-4a43-afc6-47ecaa61871a",
   "metadata": {},
   "outputs": [
    {
     "name": "stdin",
     "output_type": "stream",
     "text": [
      "enter the first number: 6\n",
      "enter the second number: 9\n",
      "enter the third number: 2\n"
     ]
    },
    {
     "name": "stdout",
     "output_type": "stream",
     "text": [
      "sorted numbers in ascending order: (2.0, 6.0, 9.0)\n"
     ]
    }
   ],
   "source": [
    "#Create a program that sorts three numbers in ascending order using conditional statements.\n",
    "def sort_numbers(num1, num2, num3):\n",
    "    if num1 <= num2 and num1 <= num3:\n",
    "        smallest = num1\n",
    "        if num2 <= num3:\n",
    "            middle = num2\n",
    "            largest = num3\n",
    "        else:\n",
    "            middle = num3\n",
    "            largest = num2\n",
    "    elif num2 <= num1 and num2 <= num3:\n",
    "        smallest = num2\n",
    "        if num1 <= num3:\n",
    "            middle = num1\n",
    "            largest = num3\n",
    "        else:\n",
    "            middle = num3\n",
    "            largest = num1\n",
    "    else:\n",
    "        smallest = num3\n",
    "        if num1 <= num2:\n",
    "            middle = num1\n",
    "            largest = num2\n",
    "        else:\n",
    "            middle = num2\n",
    "            largest = num1\n",
    "\n",
    "    return smallest, middle, largest\n",
    "def main():\n",
    "    try:\n",
    "        num1 = float(input(\"enter the first number:\"))\n",
    "        num2 = float(input(\"enter the second number:\"))\n",
    "        num3 = float(input(\"enter the third number:\"))\n",
    "        sorted_num = sort_numbers(num1,num2,num3)\n",
    "        print(\"sorted numbers in ascending order:\" , sorted_num)\n",
    "    except ValueError:\n",
    "        print(\"please enter valid number\")\n",
    "        \n",
    "if __name__ == \"__main__\":\n",
    "    main()"
   ]
  },
  {
   "cell_type": "code",
   "execution_count": 1,
   "id": "a83404eb-0a8d-4d03-983b-f521f4d1c731",
   "metadata": {},
   "outputs": [
    {
     "name": "stdin",
     "output_type": "stream",
     "text": [
      "Enter coefficients 2\n",
      "Enter coefficients 3\n",
      "Enter coefficients 4\n",
      "Enter coefficients 5\n",
      "Enter coefficients 6\n",
      "Enter initial guess for the root :  2\n"
     ]
    },
    {
     "name": "stdout",
     "output_type": "stream",
     "text": [
      "Root found :-1.3063803461328356\n"
     ]
    }
   ],
   "source": [
    "#uild a program that determines the roots of a quartic equation using numerical methods.\n",
    "def quartic_equation(x,coefficients):\n",
    "    a,b,c,d,e = coefficients\n",
    "    return a*x**4 + b*x**3 +c*x**2 +d*x + e\n",
    "def quartic_derivative(x,coefficients):\n",
    "    a,b,c,d,e = coefficients\n",
    "    return 4*a*x**3 + 3*b*x**2 + 2*c*x + d\n",
    "def newton_raphson_quartic(coefficients,initial_guess,tolerance = 1e-6,max_iteration = 100):\n",
    "    x = initial_guess\n",
    "    for _ in range(max_iteration):\n",
    "        f_x = quartic_equation(x,coefficients)\n",
    "        f_prime_x = quartic_derivative(x,coefficients)\n",
    "        if abs(f_prime_x ) < tolerance:\n",
    "            break\n",
    "        x = x - f_x/f_prime_x\n",
    "        if abs(f_x) < tolerance:\n",
    "            break\n",
    "    return x\n",
    "def main():\n",
    "    try:\n",
    "        coefficients = [float(input(f\"Enter coefficients\")) for i in range(5)]\n",
    "        initial_guess = float(input(\"Enter initial guess for the root : \"))\n",
    "        root = newton_raphson_quartic(coefficients,initial_guess)\n",
    "        \n",
    "        print(f\"Root found :{root}\")\n",
    "    except ValueError:\n",
    "        print(\"please enter valid coefficient and initial guess\")\n",
    "        \n",
    "if __name__ == \"__main__\":\n",
    "    main()"
   ]
  },
  {
   "cell_type": "code",
   "execution_count": 6,
   "id": "c5b5fc06-7e8f-4327-aad9-4a89a8da44db",
   "metadata": {},
   "outputs": [
    {
     "name": "stdin",
     "output_type": "stream",
     "text": [
      "Enter your weight in kilograms:  78\n",
      "Enter your height in meters:  145\n"
     ]
    },
    {
     "name": "stdout",
     "output_type": "stream",
     "text": [
      "Your BMI is: 0.00\n",
      "BMI Category: Underweight\n",
      "Health Recommendations:\n",
      "Consider consulting with a healthcare professional for advice on weight gain.\n"
     ]
    }
   ],
   "source": [
    "def calculate_bmi(weight, height):\n",
    "    # BMI formula: weight (kg) / (height (m) ** 2)\n",
    "    return weight / (height ** 2)\n",
    "\n",
    "def interpret_bmi(bmi):\n",
    "    if bmi < 18.5:\n",
    "        return \"Underweight\"\n",
    "    elif 18.5 <= bmi < 25:\n",
    "        return \"Normal weight\"\n",
    "    elif 25 <= bmi < 30:\n",
    "        return \"Overweight\"\n",
    "    else:\n",
    "        return \"Obese\"\n",
    "\n",
    "def main():\n",
    "    try:\n",
    "        weight = float(input(\"Enter your weight in kilograms: \"))\n",
    "        height = float(input(\"Enter your height in meters: \"))\n",
    "\n",
    "        if weight <= 0 or height <= 0:\n",
    "            print(\"Invalid input. Please enter positive values for weight and height.\")\n",
    "            return\n",
    "\n",
    "        bmi = calculate_bmi(weight, height)\n",
    "        bmi_category = interpret_bmi(bmi)\n",
    "\n",
    "        print(f\"Your BMI is: {bmi:.2f}\")\n",
    "        print(f\"BMI Category: {bmi_category}\")\n",
    "\n",
    "        if bmi_category != \"Normal weight\":\n",
    "            print(\"Health Recommendations:\")\n",
    "            if bmi_category == \"Underweight\":\n",
    "                print(\"Consider consulting with a healthcare professional for advice on weight gain.\")\n",
    "            elif bmi_category == \"Overweight\":\n",
    "                print(\"Consider consulting with a healthcare professional for advice on weight loss.\")\n",
    "            elif bmi_category == \"Obese\":\n",
    "                print(\"Consult with a healthcare professional for advice on managing obesity.\")\n",
    "\n",
    "    except ValueError:\n",
    "        print(\"Invalid input. Please enter valid numerical values for weight and height.\")\n",
    "\n",
    "if __name__ == \"__main__\":\n",
    "    main()\n"
   ]
  },
  {
   "cell_type": "code",
   "execution_count": 7,
   "id": "fdf1beb2-5e53-41c2-9cd6-0b2f8fe1442a",
   "metadata": {},
   "outputs": [
    {
     "name": "stdin",
     "output_type": "stream",
     "text": [
      "enter your password: nikita12\n"
     ]
    },
    {
     "name": "stdout",
     "output_type": "stream",
     "text": [
      "passwordis not  valid.please make sure it meets the complexity rule\n"
     ]
    }
   ],
   "source": [
    "#Create a program that validates a password based on complexity rules (length, characters, etc.).\n",
    "import re\n",
    "def is_valid_password(password):\n",
    "    if len(password) <8:\n",
    "        return False\n",
    "    if not any(char.isupper() for char in password):\n",
    "        return False\n",
    "    if not any(char.islower() for char in password):\n",
    "        return False\n",
    "    if not any(char.isdigit() for char in password):\n",
    "        return False\n",
    "    if not re.search(r'[!@#$%^&*(),.?\":{}|,.]',password):\n",
    "        return False\n",
    "    return True\n",
    "def main():\n",
    "    password = input(\"enter your password:\")\n",
    "    if is_valid_password(password):\n",
    "        print(\"password is valid\")\n",
    "    else:\n",
    "        print(\"passwordis not  valid.please make sure it meets the complexity rule\")\n",
    "if __name__ == \"__main__\" :\n",
    "    main()"
   ]
  },
  {
   "cell_type": "code",
   "execution_count": 1,
   "id": "6f490ea1-640a-451f-91c3-1087641791f8",
   "metadata": {},
   "outputs": [
    {
     "name": "stdin",
     "output_type": "stream",
     "text": [
      "Enter the number of rows for the matrices:  2\n",
      "Enter the number of columns for the matrices:  2\n"
     ]
    },
    {
     "name": "stdout",
     "output_type": "stream",
     "text": [
      "Enter values for the first matrix:\n"
     ]
    },
    {
     "name": "stdin",
     "output_type": "stream",
     "text": [
      "Enter element 1,1:  2\n",
      "Enter element 1,2:  3\n",
      "Enter element 2,1:  2\n",
      "Enter element 2,2:  3\n"
     ]
    },
    {
     "name": "stdout",
     "output_type": "stream",
     "text": [
      "Enter values for the second matrix:\n"
     ]
    },
    {
     "name": "stdin",
     "output_type": "stream",
     "text": [
      "Enter element 1,1:  2\n",
      "Enter element 1,2:  3\n",
      "Enter element 2,1:  5\n",
      "Enter element 2,2:  6\n"
     ]
    },
    {
     "name": "stdout",
     "output_type": "stream",
     "text": [
      "Matrix 1:\n",
      "[2.0, 3.0]\n",
      "[2.0, 3.0]\n",
      "Matrix 2:\n",
      "[2.0, 3.0]\n",
      "[5.0, 6.0]\n",
      "Sum of Matrices:\n",
      "[4.0, 6.0]\n",
      "[7.0, 9.0]\n",
      "Difference of Matrices:\n",
      "[0.0, 0.0]\n",
      "[-3.0, -3.0]\n"
     ]
    }
   ],
   "source": [
    "#Develop a program that performs matrix addition and subtraction based on user input.\n",
    "def add_matrices(matrix1, matrix2):\n",
    "    result = [[matrix1[i][j] + matrix2[i][j] for j in range(len(matrix1[0]))] for i in range(len(matrix1))]\n",
    "    return result\n",
    "\n",
    "def subtract_matrices(matrix1, matrix2):\n",
    "    result = [[matrix1[i][j] - matrix2[i][j] for j in range(len(matrix1[0]))] for i in range(len(matrix1))]\n",
    "    return result\n",
    "\n",
    "def input_matrix(rows, columns):\n",
    "    matrix = []\n",
    "    for i in range(rows):\n",
    "        row = [float(input(f\"Enter element {i+1},{j+1}: \")) for j in range(columns)]\n",
    "        matrix.append(row)\n",
    "    return matrix\n",
    "\n",
    "def display_matrix(matrix, label):\n",
    "    print(label)\n",
    "    for row in matrix:\n",
    "        print(row)\n",
    "\n",
    "def main():\n",
    "    try:\n",
    "        rows = int(input(\"Enter the number of rows for the matrices: \"))\n",
    "        columns = int(input(\"Enter the number of columns for the matrices: \"))\n",
    "\n",
    "        print(\"Enter values for the first matrix:\")\n",
    "        matrix1 = input_matrix(rows, columns)\n",
    "\n",
    "        print(\"Enter values for the second matrix:\")\n",
    "        matrix2 = input_matrix(rows, columns)\n",
    "\n",
    "        # Perform matrix addition and subtraction\n",
    "        sum_matrix = add_matrices(matrix1, matrix2)\n",
    "        difference_matrix = subtract_matrices(matrix1, matrix2)\n",
    "\n",
    "        # Display the results\n",
    "        display_matrix(matrix1, \"Matrix 1:\")\n",
    "        display_matrix(matrix2, \"Matrix 2:\")\n",
    "        display_matrix(sum_matrix, \"Sum of Matrices:\")\n",
    "        display_matrix(difference_matrix, \"Difference of Matrices:\")\n",
    "\n",
    "    except ValueError:\n",
    "        print(\"Invalid input. Please enter valid numerical values for rows and columns.\")\n",
    "\n",
    "if __name__ == \"__main__\":\n",
    "    main()\n",
    "\n"
   ]
  },
  {
   "cell_type": "code",
   "execution_count": 2,
   "id": "05682ba0-0030-49d9-8497-0b3fbb7e3628",
   "metadata": {},
   "outputs": [
    {
     "name": "stdin",
     "output_type": "stream",
     "text": [
      "Enter the first number:  34\n",
      "Enter the second number:  56\n"
     ]
    },
    {
     "name": "stdout",
     "output_type": "stream",
     "text": [
      "The GCD of 34 and 56 is: 2\n"
     ]
    }
   ],
   "source": [
    "# Write a program that calculates the greatest common divisor (GCD) of two numbers using the Euclidean algorithm.\n",
    "def gcd_euclidean(a, b):\n",
    "    while b:\n",
    "        a, b = b, a % b\n",
    "    return a\n",
    "\n",
    "# Input two numbers\n",
    "num1 = int(input(\"Enter the first number: \"))\n",
    "num2 = int(input(\"Enter the second number: \"))\n",
    "\n",
    "# Calculate and display the GCD\n",
    "result = gcd_euclidean(num1, num2)\n",
    "print(f\"The GCD of {num1} and {num2} is: {result}\")\n"
   ]
  },
  {
   "cell_type": "code",
   "execution_count": 1,
   "id": "3c869893-8f8d-4216-848b-d1d884160ab6",
   "metadata": {},
   "outputs": [
    {
     "name": "stdout",
     "output_type": "stream",
     "text": [
      "Matrix A:\n",
      "[1, 2, 3]\n",
      "[4, 5, 6]\n",
      "\n",
      "Matrix B:\n",
      "[7, 8]\n",
      "[9, 10]\n",
      "[11, 12]\n",
      "\n",
      "Resultant Matrix:\n",
      "[58, 64]\n",
      "[139, 154]\n"
     ]
    }
   ],
   "source": [
    "#Build a program that performs matrix multiplication using nested loops and conditional statements.\n",
    "\n",
    "def matrix_multiply(matrix1, matrix2):\n",
    "    rows1, cols1 = len(matrix1), len(matrix1[0])\n",
    "    rows2, cols2 = len(matrix2), len(matrix2[0])\n",
    "\n",
    "    # Check if matrices can be multiplied\n",
    "    if cols1 != rows2:\n",
    "        print(\"Error: Matrices cannot be multiplied. Number of columns in the first matrix must be equal to the number of rows in the second matrix.\")\n",
    "        return None\n",
    "\n",
    "    # Initialize result matrix with zeros\n",
    "    result = [[0 for _ in range(cols2)] for _ in range(rows1)]\n",
    "\n",
    "    # Perform matrix multiplication\n",
    "    for i in range(rows1):\n",
    "        for j in range(cols2):\n",
    "            for k in range(cols1):\n",
    "                result[i][j] += matrix1[i][k] * matrix2[k][j]\n",
    "\n",
    "    return result\n",
    "\n",
    "# Example matrices\n",
    "matrix_a = [[1, 2, 3], [4, 5, 6]]\n",
    "matrix_b = [[7, 8], [9, 10], [11, 12]]\n",
    "\n",
    "# Perform matrix multiplication\n",
    "result_matrix = matrix_multiply(matrix_a, matrix_b)\n",
    "\n",
    "# Display the result\n",
    "if result_matrix:\n",
    "    print(\"Matrix A:\")\n",
    "    for row in matrix_a:\n",
    "        print(row)\n",
    "\n",
    "    print(\"\\nMatrix B:\")\n",
    "    for row in matrix_b:\n",
    "        print(row)\n",
    "\n",
    "    print(\"\\nResultant Matrix:\")\n",
    "    for row in result_matrix:\n",
    "        print(row)\n"
   ]
  },
  {
   "cell_type": "code",
   "execution_count": 3,
   "id": "c3e412c0-9be7-48a5-9346-0c1a0eeed65d",
   "metadata": {},
   "outputs": [
    {
     "name": "stdout",
     "output_type": "stream",
     "text": [
      "\n",
      "|   |   |   |\n",
      "|   |   |   |\n",
      "|   |   |   |\n",
      "\n",
      "Your turn player 1\n"
     ]
    },
    {
     "name": "stdin",
     "output_type": "stream",
     "text": [
      "Enter your move (1-9):  1\n"
     ]
    },
    {
     "name": "stdout",
     "output_type": "stream",
     "text": [
      "\n",
      "| X |   |   |\n",
      "|   |   |   |\n",
      "|   |   |   |\n",
      "\n",
      "Your turn player 2\n"
     ]
    },
    {
     "name": "stdin",
     "output_type": "stream",
     "text": [
      "Enter your move (1-9):  1\n"
     ]
    },
    {
     "name": "stdout",
     "output_type": "stream",
     "text": [
      "\n",
      "That space is already taken!\n",
      "\n",
      "| X |   |   |\n",
      "|   |   |   |\n",
      "|   |   |   |\n",
      "\n",
      "Your turn player 1\n"
     ]
    },
    {
     "name": "stdin",
     "output_type": "stream",
     "text": [
      "Enter your move (1-9):  2\n"
     ]
    },
    {
     "name": "stdout",
     "output_type": "stream",
     "text": [
      "\n",
      "| X | X |   |\n",
      "|   |   |   |\n",
      "|   |   |   |\n",
      "\n",
      "Your turn player 2\n"
     ]
    },
    {
     "name": "stdin",
     "output_type": "stream",
     "text": [
      "Enter your move (1-9):  6\n"
     ]
    },
    {
     "name": "stdout",
     "output_type": "stream",
     "text": [
      "\n",
      "| X | X |   |\n",
      "|   |   | O |\n",
      "|   |   |   |\n",
      "\n",
      "Your turn player 1\n"
     ]
    },
    {
     "name": "stdin",
     "output_type": "stream",
     "text": [
      "Enter your move (1-9):  3\n"
     ]
    },
    {
     "name": "stdout",
     "output_type": "stream",
     "text": [
      "\n",
      "| X | X | X |\n",
      "|   |   | O |\n",
      "|   |   |   |\n",
      "\n",
      "X wins! Congratulations!\n"
     ]
    }
   ],
   "source": [
    "#Create a program that simulates a basic text-based tic-tac-toe game against the computer\n",
    "\n",
    "board = [\" \" for x in range(9)]\n",
    "\n",
    "def print_board():\n",
    "    row1 = \"| {} | {} | {} |\".format(board[0], board[1], board[2])\n",
    "    row2 = \"| {} | {} | {} |\".format(board[3], board[4], board[5])\n",
    "    row3 = \"| {} | {} | {} |\".format(board[6], board[7], board[8])\n",
    "\n",
    "\n",
    "    print()\n",
    "    print(row1)\n",
    "    print(row2)\n",
    "    print(row3)\n",
    "    print()\n",
    "def player_move(icon):\n",
    "    if icon == \"X\":\n",
    "        number = 1\n",
    "    elif icon == \"O\":\n",
    "        number = 2\n",
    "    print(\"Your turn player {}\".format(number))\n",
    "    choice = int(input(\"Enter your move (1-9): \").strip())\n",
    "    if board[choice - 1] == \" \":\n",
    "        board[choice - 1] = icon\n",
    "    else:\n",
    "        print()\n",
    "        print(\"That space is already taken!\")\n",
    "def is_victory(icon):\n",
    "    if ((board[0] == icon and board[1] == icon and board[2] == icon) or \n",
    "       (board[3] == icon and board[4] == icon and board[5] == icon) or \n",
    "       (board[6] == icon and board[7] == icon and board[8] == icon) or \n",
    "       (board[0] == icon and board[3] == icon and board[6] == icon) or \n",
    "       (board[1] == icon and board[4] == icon and board[7] == icon) or \n",
    "       (board[2] == icon and board[5] == icon and board[8] == icon) or \n",
    "       (board[0] == icon and board[4] == icon and board[8] == icon) or \n",
    "       (board[2] == icon and board[4] == icon and board[6] == icon)):\n",
    "        return True\n",
    "    else:\n",
    "        return False\n",
    "    \n",
    "def is_draw():\n",
    "    if \" \" not in board:\n",
    "        return True\n",
    "    else:\n",
    "        return False\n",
    "\n",
    "while True:\n",
    "    print_board()\n",
    "    player_move(\"X\")\n",
    "    print_board()\n",
    "    if is_victory(\"X\"):\n",
    "        print(\"X wins! Congratulations!\")\n",
    "        break\n",
    "    elif is_draw():\n",
    "        print(\"It's a draw!\")\n",
    "        break\n",
    "    player_move(\"O\")\n",
    "    if is_victory(\"O\"):\n",
    "        print_board()\n",
    "        print(\"O wins! Congratulations!\")\n",
    "        break\n",
    "    elif is_draw():\n",
    "        print(\"It's a draw!\")\n",
    "        break"
   ]
  },
  {
   "cell_type": "code",
   "execution_count": 4,
   "id": "734a14ba-c553-409a-893f-f131f664aabb",
   "metadata": {},
   "outputs": [
    {
     "name": "stdin",
     "output_type": "stream",
     "text": [
      "Enter the number of Fibonacci terms to generate:  5\n"
     ]
    },
    {
     "name": "stdout",
     "output_type": "stream",
     "text": [
      "Fibonacci sequence up to term 5: [0, 1, 1, 2, 3]\n"
     ]
    }
   ],
   "source": [
    "#Write a program that generates Fibonacci numbers up to a specified term using iterative methods.\n",
    "def generate_fibonacci(n):\n",
    "    fibonacci_sequence = [0, 1]\n",
    "\n",
    "    for _ in range(2, n):\n",
    "        next_number = fibonacci_sequence[-1] + fibonacci_sequence[-2]\n",
    "        fibonacci_sequence.append(next_number)\n",
    "\n",
    "    return fibonacci_sequence[:n]\n",
    "\n",
    "def main():\n",
    "    try:\n",
    "        n = int(input(\"Enter the number of Fibonacci terms to generate: \"))\n",
    "        if n <= 0:\n",
    "            print(\"Please enter a positive integer.\")\n",
    "        else:\n",
    "            fibonacci_sequence = generate_fibonacci(n)\n",
    "            print(f\"Fibonacci sequence up to term {n}: {fibonacci_sequence}\")\n",
    "    except ValueError:\n",
    "        print(\"Invalid input. Please enter a valid integer.\")\n",
    "\n",
    "if __name__ == \"__main__\":\n",
    "    main()\n",
    "\n"
   ]
  },
  {
   "cell_type": "code",
   "execution_count": 11,
   "id": "7f23ad62-2824-405f-923d-f1f1d8926bf2",
   "metadata": {},
   "outputs": [
    {
     "name": "stdin",
     "output_type": "stream",
     "text": [
      "Enter the year:  2022\n",
      "Enter the month (1-12):  4\n"
     ]
    },
    {
     "name": "stdout",
     "output_type": "stream",
     "text": [
      "\n",
      "     April 2022     \n",
      "--------------------\n",
      "Mon Tue Wed Thu Fri Sat Sun\n",
      "                 1  2  3 \n",
      " 4  5  6  7  8  9 10 \n",
      "11 12 13 14 15 16 17 \n",
      "18 19 20 21 22 23 24 \n",
      "25 26 27 28 29 30     \n"
     ]
    }
   ],
   "source": [
    "import calendar\n",
    "\n",
    "def generate_calendar(year, month):\n",
    "    cal = calendar.monthcalendar(year, month)\n",
    "    month_name = calendar.month_name[month]\n",
    "\n",
    "    # Determine the width of the header and center it\n",
    "    header_width = 20\n",
    "    centered_header = f\"{month_name} {year}\".center(header_width)\n",
    "\n",
    "    # Print the header\n",
    "    print(\"\\n\" + centered_header)\n",
    "    print(\"-\" * header_width)\n",
    "    print(\"Mon Tue Wed Thu Fri Sat Sun\")\n",
    "\n",
    "    # Print the calendar\n",
    "    for week in cal:\n",
    "        for day in week:\n",
    "            if day == 0:\n",
    "                print(\"    \", end=\"\")\n",
    "            else:\n",
    "                print(f\"{day:2} \", end=\"\")\n",
    "        print()\n",
    "\n",
    "def main():\n",
    "    try:\n",
    "        year = int(input(\"Enter the year: \"))\n",
    "        month = int(input(\"Enter the month (1-12): \"))\n",
    "\n",
    "        if 1 <= month <= 12:\n",
    "            generate_calendar(year, month)\n",
    "        else:\n",
    "            print(\"Invalid month. Please enter a number between 1 and 12.\")\n",
    "    except ValueError:\n",
    "        print(\"Invalid input. Please enter valid integers.\")\n",
    "\n",
    "if __name__ == \"__main__\":\n",
    "    main()\n"
   ]
  },
  {
   "cell_type": "code",
   "execution_count": 2,
   "id": "4613244a-420f-4a6a-a4d0-f28d03a845ef",
   "metadata": {},
   "outputs": [
    {
     "name": "stdout",
     "output_type": "stream",
     "text": [
      "Your cards: [7, 8], current score: 15\n",
      "Computer's first card: 10\n"
     ]
    },
    {
     "name": "stdin",
     "output_type": "stream",
     "text": [
      "Type 'y' to get another card, 'n' to pass:  y\n"
     ]
    },
    {
     "name": "stdout",
     "output_type": "stream",
     "text": [
      "Your cards: [7, 8, 6], current score: 21\n",
      "Computer's first card: 10\n"
     ]
    },
    {
     "name": "stdin",
     "output_type": "stream",
     "text": [
      "Type 'y' to get another card, 'n' to pass:  n\n"
     ]
    },
    {
     "name": "stdout",
     "output_type": "stream",
     "text": [
      "Your final hand: [7, 8, 6], final score: 21\n",
      "Computer's final hand: [10, 10], final score: 20\n",
      "You win!\n"
     ]
    }
   ],
   "source": [
    "#Build a program that simulates a basic text-based blackjack game against the compute\\\n",
    "import random\n",
    "\n",
    "def deal_card():\n",
    "    cards = [2, 3, 4, 5, 6, 7, 8, 9, 10, 10, 10, 10, 11]\n",
    "    return random.choice(cards)\n",
    "\n",
    "def calculate_score(cards):\n",
    "    if sum(cards) == 21 and len(cards) == 2:\n",
    "        return 0  # Blackjack\n",
    "    if 11 in cards and sum(cards) > 21:\n",
    "        cards.remove(11)\n",
    "        cards.append(1)\n",
    "    return sum(cards)\n",
    "\n",
    "def compare(user_score, computer_score):\n",
    "    if user_score == computer_score:\n",
    "        return \"It's a draw!\"\n",
    "    elif computer_score == 0:\n",
    "        return \"Computer has Blackjack. You lose!\"\n",
    "    elif user_score == 0:\n",
    "        return \"You have Blackjack! You win!\"\n",
    "    elif user_score > 21:\n",
    "        return \"You went over. You lose!\"\n",
    "    elif computer_score > 21:\n",
    "        return \"Computer went over. You win!\"\n",
    "    elif user_score > computer_score:\n",
    "        return \"You win!\"\n",
    "    else:\n",
    "        return \"You lose!\"\n",
    "\n",
    "def play_game():\n",
    "    user_cards = []\n",
    "    computer_cards = []\n",
    "    game_over = False\n",
    "\n",
    "    for _ in range(2):\n",
    "        user_cards.append(deal_card())\n",
    "        computer_cards.append(deal_card())\n",
    "\n",
    "    while not game_over:\n",
    "        user_score = calculate_score(user_cards)\n",
    "        computer_score = calculate_score(computer_cards)\n",
    "\n",
    "        print(f\"Your cards: {user_cards}, current score: {user_score}\")\n",
    "        print(f\"Computer's first card: {computer_cards[0]}\")\n",
    "\n",
    "        if user_score == 0 or computer_score == 0 or user_score > 21:\n",
    "            game_over = True\n",
    "        else:\n",
    "            should_continue = input(\"Type 'y' to get another card, 'n' to pass: \")\n",
    "            if should_continue == 'y':\n",
    "                user_cards.append(deal_card())\n",
    "            else:\n",
    "                game_over = True\n",
    "\n",
    "    while computer_score != 0 and computer_score < 17:\n",
    "        computer_cards.append(deal_card())\n",
    "        computer_score = calculate_score(computer_cards)\n",
    "\n",
    "    print(f\"Your final hand: {user_cards}, final score: {user_score}\")\n",
    "    print(f\"Computer's final hand: {computer_cards}, final score: {computer_score}\")\n",
    "    print(compare(user_score, computer_score))\n",
    "\n",
    "if __name__ == \"__main__\":\n",
    "    play_game()\n"
   ]
  },
  {
   "cell_type": "code",
   "execution_count": null,
   "id": "808afe5e-1104-4272-b0f6-c78a6a4f189d",
   "metadata": {},
   "outputs": [],
   "source": [
    "#Write a program that generates the prime factors of a given number using trial division.\n",
    "def prime_factors(number):\n",
    "    factors = []\n",
    "    divisor = 2\n",
    "    \n",
    "    while number > 1:\n",
    "        while number % divisor ==0:\n",
    "            factors.append(divisor)\n",
    "        divisor += 1\n",
    "    return factors\n",
    "def main():\n",
    "    try:\n",
    "        number = int(input(\"Enter a number to find its prime factors:\"))\n",
    "        if number < 2:\n",
    "            print(\"please enter a positive number gretaer than 1\")\n",
    "        else:\n",
    "            prime_fact =prime_factors(number)\n",
    "            print(f\"Prime factors of {number}: {primt_fact}\")\n",
    "    except ValueError:\n",
    "        print(\"Invalid input.please enter a valid number\")\n",
    "if __name__ == \"__main__\":\n",
    "    main()"
   ]
  },
  {
   "cell_type": "code",
   "execution_count": null,
   "id": "31d83049-193e-46cc-a814-4ad09af138dc",
   "metadata": {},
   "outputs": [],
   "source": []
  }
 ],
 "metadata": {
  "kernelspec": {
   "display_name": "Python 3 (ipykernel)",
   "language": "python",
   "name": "python3"
  },
  "language_info": {
   "codemirror_mode": {
    "name": "ipython",
    "version": 3
   },
   "file_extension": ".py",
   "mimetype": "text/x-python",
   "name": "python",
   "nbconvert_exporter": "python",
   "pygments_lexer": "ipython3",
   "version": "3.10.8"
  }
 },
 "nbformat": 4,
 "nbformat_minor": 5
}
